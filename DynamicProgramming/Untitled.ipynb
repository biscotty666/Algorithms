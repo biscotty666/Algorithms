{
 "cells": [
  {
   "cell_type": "markdown",
   "id": "9dff0ec7-58a0-411a-9cb5-2a3a788bcfa1",
   "metadata": {},
   "source": [
    "# Dynamic Programming\n",
    "\n",
    "[Video](https://www.youtube.com/watch?v=oBt53YbR9Kk&t=2s)"
   ]
  },
  {
   "cell_type": "markdown",
   "id": "4e5c0f18-ee96-43fc-b968-8c9cfe8e5750",
   "metadata": {},
   "source": [
    "Write a funtion `fib(n)` that takes a number as an argument and returns the n-th number of the Fibonacci sequence.\n",
    "\n",
    "The 1st and 2nd number are 1"
   ]
  },
  {
   "cell_type": "code",
   "execution_count": 2,
   "id": "cc632c72-36b1-4b98-a86f-5cdf7b87b5ed",
   "metadata": {},
   "outputs": [
    {
     "data": {
      "text/plain": [
       "13"
      ]
     },
     "execution_count": 2,
     "metadata": {},
     "output_type": "execute_result"
    }
   ],
   "source": [
    "def fib(n):\n",
    "  if n <= 2:\n",
    "    return 1\n",
    "  return fib(n-1) + fib(n-2)\n",
    "\n",
    "fib(7)"
   ]
  },
  {
   "cell_type": "code",
   "execution_count": 3,
   "id": "073d9cf0-7a7f-4963-b338-a09e25a4941b",
   "metadata": {},
   "outputs": [
    {
     "data": {
      "text/plain": [
       "832040"
      ]
     },
     "execution_count": 3,
     "metadata": {},
     "output_type": "execute_result"
    }
   ],
   "source": [
    "fib(30)"
   ]
  },
  {
   "cell_type": "markdown",
   "id": "1458e561-4f95-4edc-8a17-c648af4f08ad",
   "metadata": {},
   "source": [
    "The function is correct but very slow for large values of n\n",
    "\n",
    "We need to identify where we can improve\n",
    "\n",
    "<img src=\"FibTree.png\" />\n",
    "\n",
    "The algorithm adds child nodes to parent nodes beginning with the base case leaves\n",
    "\n",
    "$O(n) = 2^n$"
   ]
  },
  {
   "cell_type": "markdown",
   "id": "ef16bd66-3eb5-4773-927f-32291c0ed0c3",
   "metadata": {},
   "source": [
    "Note the duplicate sub-trees. Can we re-use the calculations? Dynamic programming allows us to decompose a problem into smaller problems and re-using calculations"
   ]
  },
  {
   "cell_type": "markdown",
   "id": "85a5a133-5f06-41f0-a215-2777bd075a31",
   "metadata": {},
   "source": [
    "## Memoization\n",
    "\n",
    "Storing results"
   ]
  },
  {
   "cell_type": "code",
   "execution_count": 4,
   "id": "e6403b6e-fe8b-4932-a753-187130c1a61f",
   "metadata": {},
   "outputs": [],
   "source": [
    " def fib(n, memo={}):\n",
    "  if n in memo.keys():\n",
    "    return memo[n]\n",
    "  if n <= 2:\n",
    "    return 1\n",
    "  memo[n] = fib(n-1,memo) + fib(n-2,memo)\n",
    "  return memo[n]"
   ]
  },
  {
   "cell_type": "code",
   "execution_count": 5,
   "id": "43b61a56-91ce-4315-bebc-d6d4d9c5c6dd",
   "metadata": {},
   "outputs": [
    {
     "name": "stdout",
     "output_type": "stream",
     "text": [
      "5\n",
      "13\n",
      "55\n",
      "12586269025\n"
     ]
    }
   ],
   "source": [
    "print(fib(5))\n",
    "print(fib(7))\n",
    "print(fib(10))\n",
    "print(fib(50))"
   ]
  },
  {
   "cell_type": "markdown",
   "id": "77068708-6b03-4b25-8fb6-ea27841e7121",
   "metadata": {},
   "source": [
    "<img src=\"FibMemo.png\" />"
   ]
  },
  {
   "cell_type": "markdown",
   "id": "f682568a-a7c8-45d1-8a8a-cd31421388e2",
   "metadata": {},
   "source": [
    "Now we have $O(n)$ time and space complexity"
   ]
  },
  {
   "cell_type": "markdown",
   "id": "77936d5d-c91a-4a57-ae38-8ff0ec7f1b28",
   "metadata": {},
   "source": [
    "<img src=\"GTProblem.png\" />\n",
    "<img src=\"GTPic.png\" />"
   ]
  },
  {
   "cell_type": "code",
   "execution_count": 8,
   "id": "075b6f7a-4dd1-41fd-883b-777aca23f29d",
   "metadata": {},
   "outputs": [],
   "source": [
    "def gridTraveler(m,n):\n",
    "  if m == 1 and n == 1:\n",
    "    return 1\n",
    "  if m == 0 or n == 0:\n",
    "    return 0\n",
    "  return gridTraveler(m-1, n) + gridTraveler(m, n-1)"
   ]
  },
  {
   "cell_type": "code",
   "execution_count": 9,
   "id": "637314b2-9e27-448b-a8a2-f867aa0cd455",
   "metadata": {},
   "outputs": [
    {
     "name": "stdout",
     "output_type": "stream",
     "text": [
      "1\n",
      "3\n",
      "3\n",
      "6\n"
     ]
    }
   ],
   "source": [
    "print(gridTraveler(1,1))\n",
    "print(gridTraveler(2,3))\n",
    "print(gridTraveler(3,2))\n",
    "print(gridTraveler(3,3))"
   ]
  },
  {
   "cell_type": "code",
   "execution_count": 11,
   "id": "7dc2b868-33cc-4723-8cd5-c1b821abdcc2",
   "metadata": {},
   "outputs": [],
   "source": [
    "# print(gridTraveler(15,15)) Takes way too long"
   ]
  },
  {
   "cell_type": "markdown",
   "id": "f32ed716-00a4-438f-8be9-5b5351b3ec02",
   "metadata": {},
   "source": [
    " <img src=\"GTTree.png\" />\n",
    " \n",
    " Specifies possible routes (to non-null-returning leaves):\n",
    " \n",
    " - DRR\n",
    " - RDR\n",
    " - RRD"
   ]
  },
  {
   "cell_type": "markdown",
   "id": "32d6f9e2-4765-40f9-ae47-567e362a22fa",
   "metadata": {},
   "source": [
    " <img src=\"GTO.png\" />"
   ]
  },
  {
   "cell_type": "code",
   "execution_count": 25,
   "id": "54f445e1-ad18-4aab-bbe8-49ee8c317b69",
   "metadata": {},
   "outputs": [],
   "source": [
    "def gridTraveler(m,n, memo={}):\n",
    "  key = f\"{m},{n}\"\n",
    "  if key in memo.keys():\n",
    "    return memo[key]\n",
    "  if m == 0 or n == 0: return 0\n",
    "  if m == 1 and n == 1: return 1\n",
    "  memo[key] = gridTraveler(m-1, n, memo) + gridTraveler(m, n-1, memo)\n",
    "  return memo[key]"
   ]
  },
  {
   "cell_type": "code",
   "execution_count": 26,
   "id": "2eac9f8b-8a83-4b45-9994-0c971a829d14",
   "metadata": {},
   "outputs": [
    {
     "name": "stdout",
     "output_type": "stream",
     "text": [
      "3\n"
     ]
    }
   ],
   "source": [
    "print(gridTraveler(2,3))"
   ]
  },
  {
   "cell_type": "code",
   "execution_count": 28,
   "id": "23ed6c8f-0b3a-44cc-9e49-357e6d2a4254",
   "metadata": {},
   "outputs": [
    {
     "name": "stdout",
     "output_type": "stream",
     "text": [
      "2333606220\n"
     ]
    }
   ],
   "source": [
    "print(gridTraveler(18,18))"
   ]
  },
  {
   "cell_type": "markdown",
   "id": "0f2c7d50-730c-48ed-901c-ec07f8708cbb",
   "metadata": {},
   "source": [
    "- Total number of nodes: m * n\n",
    "- Time complexity: $O(m * n)$\n",
    "- Space complexity: $O(n + n)$"
   ]
  },
  {
   "cell_type": "markdown",
   "id": "155c619a-93dc-435f-b3de-7d4f3bea3dad",
   "metadata": {},
   "source": [
    "## Memoization Recipe\n",
    "\n",
    "1. Make it work first\n",
    "\n",
    "- Visualize as a tree to reduce larger problems to smaller problems\n",
    "- Implement the tree using recursion\n",
    "- test it\n",
    "\n",
    "2. Make it effecient\n",
    "- Add a `memo` object where `keys` represent unique function arguments and `values` are the `return` values\n",
    "- Add a new base case to return `memo[key]`\n",
    "- store `return` values into `memo[key]`\n",
    "- return `memo[key]`\n",
    "  "
   ]
  },
  {
   "cell_type": "code",
   "execution_count": null,
   "id": "8da2fe2b-2cd6-4eb5-850c-2587f3aea3e8",
   "metadata": {},
   "outputs": [],
   "source": []
  }
 ],
 "metadata": {
  "kernelspec": {
   "display_name": "Python 3 (ipykernel)",
   "language": "python",
   "name": "python3"
  },
  "language_info": {
   "codemirror_mode": {
    "name": "ipython",
    "version": 3
   },
   "file_extension": ".py",
   "mimetype": "text/x-python",
   "name": "python",
   "nbconvert_exporter": "python",
   "pygments_lexer": "ipython3",
   "version": "3.9.13"
  }
 },
 "nbformat": 4,
 "nbformat_minor": 5
}
